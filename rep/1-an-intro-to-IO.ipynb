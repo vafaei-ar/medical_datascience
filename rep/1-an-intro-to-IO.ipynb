{
 "cells": [
  {
   "cell_type": "code",
   "execution_count": null,
   "metadata": {},
   "outputs": [],
   "source": [
    "x = input('Enter the number:')\n",
    "x = int(x)"
   ]
  },
  {
   "cell_type": "code",
   "execution_count": null,
   "metadata": {},
   "outputs": [],
   "source": [
    "x"
   ]
  },
  {
   "cell_type": "code",
   "execution_count": null,
   "metadata": {},
   "outputs": [],
   "source": [
    "x = float(input('Enter the first number:'))\n",
    "y = float(input('Enter the second number:'))\n",
    "print('The result is: ',x+y)\n",
    "\n",
    "# Python 2:\n",
    "# y=raw_input()"
   ]
  },
  {
   "cell_type": "code",
   "execution_count": null,
   "metadata": {},
   "outputs": [],
   "source": [
    "f = open(\"./file1.txt\", \"r\")"
   ]
  },
  {
   "cell_type": "code",
   "execution_count": null,
   "metadata": {},
   "outputs": [],
   "source": [
    "print(f)"
   ]
  },
  {
   "cell_type": "code",
   "execution_count": null,
   "metadata": {},
   "outputs": [],
   "source": [
    "for x in f:\n",
    "    print(x) "
   ]
  },
  {
   "cell_type": "code",
   "execution_count": null,
   "metadata": {},
   "outputs": [],
   "source": [
    "f.close()"
   ]
  },
  {
   "cell_type": "code",
   "execution_count": 14,
   "metadata": {},
   "outputs": [],
   "source": [
    "f = open(\"./file1.txt\", \"a\",encoding='UTF-8')\n",
    "for i in range(5):\n",
    "    f.write(str(i)+'\\n') #you can try \\t or \\r\n",
    "f.close()"
   ]
  },
  {
   "cell_type": "code",
   "execution_count": null,
   "metadata": {},
   "outputs": [],
   "source": [
    "f = open(\"./file1.txt\", \"w\")\n",
    "f.write(\"Woops! I have deleted the content!\")\n",
    "f.close()"
   ]
  },
  {
   "cell_type": "code",
   "execution_count": 15,
   "metadata": {},
   "outputs": [
    {
     "name": "stdout",
     "output_type": "stream",
     "text": [
      "The English word Persepolis is derived from Ancient Greek: Περσέπολις, romanized: Persepolis, a compound of Pérsēs (Πέρσης) and pólis (πόλις), meaning \"the Persian city\" or \"the city of the Persians\". To the ancient Persians, the city was known as Pārsa (Old Persian: 𐎱𐎠𐎼𐎿), which is also the word for the region of Persia.[3][4]\n",
      "\n",
      "\n",
      "\n",
      "An inscription left in AD 311 by Sasanian prince Shapur Sakanshah, the son of Hormizd II, refers to the site as Sad-stūn, meaning \"Hundred Pillars\".[5] Because medieval Persians attributed the site to Jamshid,[6] a king from Persian mythology, it has been referred to as Takht-e-Jamshid (Persian: تخت جمشید‎, Taxt e Jamšīd; [ˌtæxtedʒæmˈʃiːd]), literally meaning \"Throne of Jamshid\". Another name given to the site in the medieval period was Čehel Menār, literally meaning \"Forty Minarets\"\n",
      "\n"
     ]
    }
   ],
   "source": [
    "f = open('./file2.txt','r')\n",
    "for x in f:\n",
    "    print(x)"
   ]
  },
  {
   "cell_type": "code",
   "execution_count": 18,
   "metadata": {},
   "outputs": [],
   "source": [
    "f = open('./file2.txt','r')\n",
    "s = f.read()"
   ]
  },
  {
   "cell_type": "code",
   "execution_count": 20,
   "metadata": {},
   "outputs": [
    {
     "data": {
      "text/plain": [
       "['The',\n",
       " 'English',\n",
       " 'word',\n",
       " 'Persepolis',\n",
       " 'is',\n",
       " 'derived',\n",
       " 'from',\n",
       " 'Ancient',\n",
       " 'Greek:',\n",
       " 'Περσέπολις,',\n",
       " 'romanized:',\n",
       " 'Persepolis,',\n",
       " 'a',\n",
       " 'compound',\n",
       " 'of',\n",
       " 'Pérsēs',\n",
       " '(Πέρσης)',\n",
       " 'and',\n",
       " 'pólis',\n",
       " '(πόλις),',\n",
       " 'meaning',\n",
       " '\"the',\n",
       " 'Persian',\n",
       " 'city\"',\n",
       " 'or',\n",
       " '\"the',\n",
       " 'city',\n",
       " 'of',\n",
       " 'the',\n",
       " 'Persians\".',\n",
       " 'To',\n",
       " 'the',\n",
       " 'ancient',\n",
       " 'Persians,',\n",
       " 'the',\n",
       " 'city',\n",
       " 'was',\n",
       " 'known',\n",
       " 'as',\n",
       " 'Pārsa',\n",
       " '(Old',\n",
       " 'Persian:',\n",
       " '𐎱𐎠𐎼𐎿),',\n",
       " 'which',\n",
       " 'is',\n",
       " 'also',\n",
       " 'the',\n",
       " 'word',\n",
       " 'for',\n",
       " 'the',\n",
       " 'region',\n",
       " 'of',\n",
       " 'Persia.[3][4]\\n\\nAn',\n",
       " 'inscription',\n",
       " 'left',\n",
       " 'in',\n",
       " 'AD',\n",
       " '311',\n",
       " 'by',\n",
       " 'Sasanian',\n",
       " 'prince',\n",
       " 'Shapur',\n",
       " 'Sakanshah,',\n",
       " 'the',\n",
       " 'son',\n",
       " 'of',\n",
       " 'Hormizd',\n",
       " 'II,',\n",
       " 'refers',\n",
       " 'to',\n",
       " 'the',\n",
       " 'site',\n",
       " 'as',\n",
       " 'Sad-stūn,',\n",
       " 'meaning',\n",
       " '\"Hundred',\n",
       " 'Pillars\".[5]',\n",
       " 'Because',\n",
       " 'medieval',\n",
       " 'Persians',\n",
       " 'attributed',\n",
       " 'the',\n",
       " 'site',\n",
       " 'to',\n",
       " 'Jamshid,[6]',\n",
       " 'a',\n",
       " 'king',\n",
       " 'from',\n",
       " 'Persian',\n",
       " 'mythology,',\n",
       " 'it',\n",
       " 'has',\n",
       " 'been',\n",
       " 'referred',\n",
       " 'to',\n",
       " 'as',\n",
       " 'Takht-e-Jamshid',\n",
       " '(Persian:',\n",
       " 'تخت',\n",
       " 'جمشید\\u200e,',\n",
       " 'Taxt',\n",
       " 'e',\n",
       " 'Jamšīd;',\n",
       " '[ˌtæxtedʒæmˈʃiːd]),',\n",
       " 'literally',\n",
       " 'meaning',\n",
       " '\"Throne',\n",
       " 'of',\n",
       " 'Jamshid\".',\n",
       " 'Another',\n",
       " 'name',\n",
       " 'given',\n",
       " 'to',\n",
       " 'the',\n",
       " 'site',\n",
       " 'in',\n",
       " 'the',\n",
       " 'medieval',\n",
       " 'period',\n",
       " 'was',\n",
       " 'Čehel',\n",
       " 'Menār,',\n",
       " 'literally',\n",
       " 'meaning',\n",
       " '\"Forty',\n",
       " 'Minarets\"\\n']"
      ]
     },
     "execution_count": 20,
     "metadata": {},
     "output_type": "execute_result"
    }
   ],
   "source": [
    "s.split(' ')"
   ]
  },
  {
   "cell_type": "code",
   "execution_count": null,
   "metadata": {},
   "outputs": [],
   "source": []
  }
 ],
 "metadata": {
  "kernelspec": {
   "display_name": "Python 3",
   "language": "python",
   "name": "python3"
  },
  "language_info": {
   "codemirror_mode": {
    "name": "ipython",
    "version": 3
   },
   "file_extension": ".py",
   "mimetype": "text/x-python",
   "name": "python",
   "nbconvert_exporter": "python",
   "pygments_lexer": "ipython3",
   "version": "3.6.6"
  }
 },
 "nbformat": 4,
 "nbformat_minor": 2
}
