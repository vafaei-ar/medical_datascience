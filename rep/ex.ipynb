{
 "cells": [
  {
   "cell_type": "code",
   "execution_count": 20,
   "metadata": {},
   "outputs": [
    {
     "name": "stdout",
     "output_type": "stream",
     "text": [
      "Hello? How are you?\n",
      "HellO HoW ArE YoU \n"
     ]
    }
   ],
   "source": [
    "x = input()\n",
    "x = ['code.py']+x.split(' ')\n",
    "x = x[1:]\n",
    "\n",
    "y = ''\n",
    "\n",
    "for i in x:\n",
    "    # this line removes any not\n",
    "    j = i.replace('?','').replace('!','')\n",
    "    \n",
    "    j = list(j)\n",
    "    j[0] = j[0].upper()\n",
    "    j[-1] = j[-1].upper()\n",
    "    j = ''.join(j)\n",
    "    y = y+j+' '\n",
    "#     y.append(j)\n",
    "print(y)\n",
    "# print(' '.join(y))\n"
   ]
  },
  {
   "cell_type": "code",
   "execution_count": 22,
   "metadata": {},
   "outputs": [
    {
     "data": {
      "text/plain": [
       "False"
      ]
     },
     "execution_count": 22,
     "metadata": {},
     "output_type": "execute_result"
    }
   ],
   "source": [
    "'?'.isalpha()"
   ]
  },
  {
   "cell_type": "code",
   "execution_count": null,
   "metadata": {},
   "outputs": [],
   "source": []
  }
 ],
 "metadata": {
  "kernelspec": {
   "display_name": "Python 3",
   "language": "python",
   "name": "python3"
  },
  "language_info": {
   "codemirror_mode": {
    "name": "ipython",
    "version": 3
   },
   "file_extension": ".py",
   "mimetype": "text/x-python",
   "name": "python",
   "nbconvert_exporter": "python",
   "pygments_lexer": "ipython3",
   "version": "3.6.6"
  }
 },
 "nbformat": 4,
 "nbformat_minor": 2
}
