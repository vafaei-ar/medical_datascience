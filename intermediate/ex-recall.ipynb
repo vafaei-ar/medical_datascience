{
 "cells": [
  {
   "cell_type": "markdown",
   "id": "specific-dairy",
   "metadata": {},
   "source": [
    "## Recall"
   ]
  },
  {
   "cell_type": "code",
   "execution_count": 10,
   "id": "partial-natural",
   "metadata": {},
   "outputs": [],
   "source": [
    "x = [[1,2,3],[11,21,31],[12,22,32]]\n",
    "y = [[10,20,30],[10,20,30],[10,20,30]]"
   ]
  },
  {
   "cell_type": "code",
   "execution_count": 8,
   "id": "unauthorized-lawrence",
   "metadata": {},
   "outputs": [
    {
     "name": "stdout",
     "output_type": "stream",
     "text": [
      "1\n",
      "2\n",
      "3\n"
     ]
    }
   ],
   "source": [
    "for i in [1,2,3]:\n",
    "    print(i)"
   ]
  },
  {
   "cell_type": "code",
   "execution_count": 13,
   "id": "threatened-glucose",
   "metadata": {},
   "outputs": [
    {
     "name": "stdout",
     "output_type": "stream",
     "text": [
      "[1, 2, 3] [10, 20, 30]\n",
      "[11, 21, 31] [10, 20, 30]\n",
      "[12, 22, 32] [10, 20, 30]\n"
     ]
    }
   ],
   "source": [
    "for i1,i2 in zip(x,y):\n",
    "    print(i1,i2)"
   ]
  },
  {
   "cell_type": "code",
   "execution_count": 17,
   "id": "prospective-locator",
   "metadata": {},
   "outputs": [
    {
     "data": {
      "text/plain": [
       "[1, 2]"
      ]
     },
     "execution_count": 17,
     "metadata": {},
     "output_type": "execute_result"
    }
   ],
   "source": [
    "z = []\n",
    "z.append(1)\n",
    "z.append(2)\n",
    "z"
   ]
  },
  {
   "cell_type": "code",
   "execution_count": 20,
   "id": "administrative-community",
   "metadata": {},
   "outputs": [
    {
     "data": {
      "text/plain": [
       "[[11, 22, 33], [21, 41, 61], [22, 42, 62]]"
      ]
     },
     "execution_count": 20,
     "metadata": {},
     "output_type": "execute_result"
    }
   ],
   "source": [
    "z = []\n",
    "for i1,i2 in zip(x,y):\n",
    "    zp = []\n",
    "    for j1,j2 in zip(i1,i2):\n",
    "        zp.append(j1+j2)\n",
    "    z.append(zp)\n",
    "z"
   ]
  },
  {
   "cell_type": "code",
   "execution_count": 21,
   "id": "grateful-calendar",
   "metadata": {},
   "outputs": [],
   "source": [
    "def list_addition(x,y):\n",
    "    z = []\n",
    "    for i1,i2 in zip(x,y):\n",
    "        zp = []\n",
    "        for j1,j2 in zip(i1,i2):\n",
    "            zp.append(j1+j2)\n",
    "        z.append(zp)\n",
    "    return z"
   ]
  },
  {
   "cell_type": "code",
   "execution_count": 22,
   "id": "employed-jewel",
   "metadata": {},
   "outputs": [
    {
     "data": {
      "text/plain": [
       "[[11, 22, 33], [21, 41, 61], [22, 42, 62]]"
      ]
     },
     "execution_count": 22,
     "metadata": {},
     "output_type": "execute_result"
    }
   ],
   "source": [
    "list_addition(x,y)"
   ]
  },
  {
   "cell_type": "code",
   "execution_count": 23,
   "id": "other-estimate",
   "metadata": {},
   "outputs": [],
   "source": [
    "import numpy as np"
   ]
  },
  {
   "cell_type": "code",
   "execution_count": 27,
   "id": "understood-conspiracy",
   "metadata": {},
   "outputs": [
    {
     "data": {
      "text/plain": [
       "array([[1., 1., 1.],\n",
       "       [1., 1., 1.],\n",
       "       [1., 1., 1.]])"
      ]
     },
     "execution_count": 27,
     "metadata": {},
     "output_type": "execute_result"
    }
   ],
   "source": [
    "x = np.zeros((3,3))+1\n",
    "x"
   ]
  },
  {
   "cell_type": "code",
   "execution_count": 29,
   "id": "split-discount",
   "metadata": {},
   "outputs": [
    {
     "data": {
      "text/plain": [
       "array([[2., 2., 2.],\n",
       "       [2., 2., 2.],\n",
       "       [2., 2., 2.]])"
      ]
     },
     "execution_count": 29,
     "metadata": {},
     "output_type": "execute_result"
    }
   ],
   "source": [
    "y = np.zeros((3,3))+2\n",
    "y"
   ]
  },
  {
   "cell_type": "code",
   "execution_count": 30,
   "id": "liberal-brazil",
   "metadata": {},
   "outputs": [
    {
     "data": {
      "text/plain": [
       "array([[3., 3., 3.],\n",
       "       [3., 3., 3.],\n",
       "       [3., 3., 3.]])"
      ]
     },
     "execution_count": 30,
     "metadata": {},
     "output_type": "execute_result"
    }
   ],
   "source": [
    "x+y"
   ]
  },
  {
   "cell_type": "code",
   "execution_count": 31,
   "id": "planned-wallace",
   "metadata": {},
   "outputs": [],
   "source": [
    "from time import time,sleep"
   ]
  },
  {
   "cell_type": "code",
   "execution_count": 48,
   "id": "oriented-digest",
   "metadata": {},
   "outputs": [
    {
     "data": {
      "text/plain": [
       "1.0016753673553467"
      ]
     },
     "execution_count": 48,
     "metadata": {},
     "output_type": "execute_result"
    }
   ],
   "source": [
    "t0 = time()\n",
    "sleep(1)\n",
    "time()-t0"
   ]
  },
  {
   "cell_type": "code",
   "execution_count": 54,
   "id": "tracked-methodology",
   "metadata": {},
   "outputs": [],
   "source": [
    "lxs = [5,10,100,1000,10000]\n",
    "\n",
    "dts_l = []\n",
    "dts_n = []\n",
    "\n",
    "for lx in lxs:\n",
    "    x = lx*[lx*[1.]]\n",
    "    t0 = time()\n",
    "    list_addition(x,x)\n",
    "    dt = time()-t0\n",
    "    dts_l.append(dt)\n",
    "    \n",
    "    x = np.zeros((lx,lx))+1\n",
    "    t0 = time()\n",
    "    x+x\n",
    "    dt = time()-t0\n",
    "    dts_n.append(dt)"
   ]
  },
  {
   "cell_type": "code",
   "execution_count": 61,
   "id": "outer-calgary",
   "metadata": {},
   "outputs": [
    {
     "data": {
      "image/png": "[encoded data removed]",
      "text/plain": [
       "<Figure size 432x288 with 1 Axes>"
      ]
     },
     "metadata": {
      "needs_background": "light"
     },
     "output_type": "display_data"
    }
   ],
   "source": [
    "import pylab as plt\n",
    "\n",
    "plt.plot(lxs,dts_l,color='r',label='list')\n",
    "plt.plot(lxs,dts_n,color='b',label='numpy')\n",
    "plt.legend()\n",
    "plt.yscale('log')"
   ]
  },
  {
   "cell_type": "code",
   "execution_count": null,
   "id": "thick-family",
   "metadata": {},
   "outputs": [],
   "source": []
  }
 ],
 "metadata": {
  "kernelspec": {
   "display_name": "gpu1",
   "language": "python",
   "name": "gpu1"
  },
  "language_info": {
   "codemirror_mode": {
    "name": "ipython",
    "version": 3
   },
   "file_extension": ".py",
   "mimetype": "text/x-python",
   "name": "python",
   "nbconvert_exporter": "python",
   "pygments_lexer": "ipython3",
   "version": "3.8.8"
  }
 },
 "nbformat": 4,
 "nbformat_minor": 5
}
